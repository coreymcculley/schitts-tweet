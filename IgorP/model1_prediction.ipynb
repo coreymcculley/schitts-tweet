{
 "cells": [
  {
   "cell_type": "markdown",
   "metadata": {},
   "source": [
    "## Notebook to get Model1 Predictions"
   ]
  },
  {
   "cell_type": "code",
   "execution_count": 23,
   "metadata": {},
   "outputs": [],
   "source": [
    "# Import Libraries\n",
    "\n",
    "import pandas as pd\n",
    "import os\n",
    "from tensorflow.keras.preprocessing.sequence import pad_sequences\n",
    "import pickle\n",
    "from keras.models import load_model"
   ]
  },
  {
   "cell_type": "code",
   "execution_count": 2,
   "metadata": {},
   "outputs": [],
   "source": [
    "# Read input CSV file with scrapped tweets\n",
    "path = r'Tweet_All.csv'\n",
    "tweet_all = pd.read_csv(path)"
   ]
  },
  {
   "cell_type": "code",
   "execution_count": 15,
   "metadata": {},
   "outputs": [
    {
     "data": {
      "text/html": [
       "<div>\n",
       "<style scoped>\n",
       "    .dataframe tbody tr th:only-of-type {\n",
       "        vertical-align: middle;\n",
       "    }\n",
       "\n",
       "    .dataframe tbody tr th {\n",
       "        vertical-align: top;\n",
       "    }\n",
       "\n",
       "    .dataframe thead th {\n",
       "        text-align: right;\n",
       "    }\n",
       "</style>\n",
       "<table border=\"1\" class=\"dataframe\">\n",
       "  <thead>\n",
       "    <tr style=\"text-align: right;\">\n",
       "      <th></th>\n",
       "      <th>Username_Query</th>\n",
       "      <th>Datetime</th>\n",
       "      <th>Tweet Id</th>\n",
       "      <th>Text</th>\n",
       "    </tr>\n",
       "  </thead>\n",
       "  <tbody>\n",
       "    <tr>\n",
       "      <th>0</th>\n",
       "      <td>kevinhart4real</td>\n",
       "      <td>2021-01-22 02:41:31</td>\n",
       "      <td>1.352446e+18</td>\n",
       "      <td>😂😂😂😂😂😂 https://t.co/S6bufs38c6</td>\n",
       "    </tr>\n",
       "    <tr>\n",
       "      <th>1</th>\n",
       "      <td>kevinhart4real</td>\n",
       "      <td>2021-01-21 21:00:42</td>\n",
       "      <td>1.352360e+18</td>\n",
       "      <td>Mood on this beautiful Thursday.... #LiveLoveL...</td>\n",
       "    </tr>\n",
       "    <tr>\n",
       "      <th>2</th>\n",
       "      <td>kevinhart4real</td>\n",
       "      <td>2021-01-21 16:47:20</td>\n",
       "      <td>1.352297e+18</td>\n",
       "      <td>Just posted a photo https://t.co/QA4YrxAD39</td>\n",
       "    </tr>\n",
       "  </tbody>\n",
       "</table>\n",
       "</div>"
      ],
      "text/plain": [
       "   Username_Query             Datetime      Tweet Id  \\\n",
       "0  kevinhart4real  2021-01-22 02:41:31  1.352446e+18   \n",
       "1  kevinhart4real  2021-01-21 21:00:42  1.352360e+18   \n",
       "2  kevinhart4real  2021-01-21 16:47:20  1.352297e+18   \n",
       "\n",
       "                                                Text  \n",
       "0                     😂😂😂😂😂😂 https://t.co/S6bufs38c6  \n",
       "1  Mood on this beautiful Thursday.... #LiveLoveL...  \n",
       "2        Just posted a photo https://t.co/QA4YrxAD39  "
      ]
     },
     "execution_count": 15,
     "metadata": {},
     "output_type": "execute_result"
    }
   ],
   "source": [
    "# dropping duplicates in the dataframe\n",
    "tweet_all = tweet_all.drop_duplicates(subset=['Text'], keep='first').reset_index(drop=True)\n",
    "tweet_all.head(3)"
   ]
  },
  {
   "cell_type": "code",
   "execution_count": 4,
   "metadata": {},
   "outputs": [
    {
     "name": "stdout",
     "output_type": "stream",
     "text": [
      "Model1 Loaded\n",
      "Tokenizer1 Loaded\n"
     ]
    }
   ],
   "source": [
    "# loading model\n",
    "model = load_model('/Users/user/Desktop/Project3/model/model1.h5')\n",
    "print(\"Model1 Loaded\")\n",
    "file = open('/Users/user/Desktop/Project3/model/tokenizer1.pickle', 'rb')\n",
    "tokens = pickle.load(file)\n",
    "file.close()\n",
    "print(\"Tokenizer1 Loaded\")"
   ]
  },
  {
   "cell_type": "code",
   "execution_count": 25,
   "metadata": {},
   "outputs": [],
   "source": [
    "# read \"text\" column from all scrapped tweets or enter a custom phrase\n",
    "text = list(tweet_all.Text)#[0:10]\n",
    "#text = ['I love spring', 'I have winter']"
   ]
  },
  {
   "cell_type": "markdown",
   "metadata": {},
   "source": [
    "#### Model Prediction"
   ]
  },
  {
   "cell_type": "code",
   "execution_count": 26,
   "metadata": {},
   "outputs": [],
   "source": [
    "# Define score labels and model prediction functions\n",
    "max_length = 20\n",
    "trunc_type = 'post'\n",
    "padd_type = 'post'\n",
    "\n",
    "\n",
    "def decode_sentiment(score):\n",
    "    label = None\n",
    "    if score <= 0.5:\n",
    "        label = 'Negative'\n",
    "    else:\n",
    "        label = 'Positive'\n",
    "    \n",
    "    return label\n",
    "\n",
    "def predict(text):\n",
    "    x_test = pad_sequences(tokens.texts_to_sequences([text]), maxlen=max_length,padding=padd_type,truncating=trunc_type)\n",
    "    score = model.predict([x_test])\n",
    "    label = decode_sentiment(score)\n",
    "    \n",
    "    return  {\"text\": text, \"label\": label, \"score\": float(score)}"
   ]
  },
  {
   "cell_type": "code",
   "execution_count": 27,
   "metadata": {},
   "outputs": [
    {
     "name": "stdout",
     "output_type": "stream",
     "text": [
      "CPU times: user 19min 49s, sys: 1min 24s, total: 21min 13s\n",
      "Wall time: 16min 22s\n"
     ]
    },
    {
     "data": {
      "text/html": [
       "<div>\n",
       "<style scoped>\n",
       "    .dataframe tbody tr th:only-of-type {\n",
       "        vertical-align: middle;\n",
       "    }\n",
       "\n",
       "    .dataframe tbody tr th {\n",
       "        vertical-align: top;\n",
       "    }\n",
       "\n",
       "    .dataframe thead th {\n",
       "        text-align: right;\n",
       "    }\n",
       "</style>\n",
       "<table border=\"1\" class=\"dataframe\">\n",
       "  <thead>\n",
       "    <tr style=\"text-align: right;\">\n",
       "      <th></th>\n",
       "      <th>label</th>\n",
       "      <th>score</th>\n",
       "      <th>text</th>\n",
       "      <th>user</th>\n",
       "      <th>tweet_id</th>\n",
       "      <th>datetime</th>\n",
       "    </tr>\n",
       "  </thead>\n",
       "  <tbody>\n",
       "    <tr>\n",
       "      <th>0</th>\n",
       "      <td>Positive</td>\n",
       "      <td>0.515525</td>\n",
       "      <td>😂😂😂😂😂😂 https://t.co/S6bufs38c6</td>\n",
       "      <td>kevinhart4real</td>\n",
       "      <td>1.352446e+18</td>\n",
       "      <td>2021-01-22 02:41:31</td>\n",
       "    </tr>\n",
       "    <tr>\n",
       "      <th>1</th>\n",
       "      <td>Positive</td>\n",
       "      <td>0.709734</td>\n",
       "      <td>Mood on this beautiful Thursday.... #LiveLoveL...</td>\n",
       "      <td>kevinhart4real</td>\n",
       "      <td>1.352360e+18</td>\n",
       "      <td>2021-01-21 21:00:42</td>\n",
       "    </tr>\n",
       "    <tr>\n",
       "      <th>2</th>\n",
       "      <td>Positive</td>\n",
       "      <td>0.664074</td>\n",
       "      <td>Just posted a photo https://t.co/QA4YrxAD39</td>\n",
       "      <td>kevinhart4real</td>\n",
       "      <td>1.352297e+18</td>\n",
       "      <td>2021-01-21 16:47:20</td>\n",
       "    </tr>\n",
       "    <tr>\n",
       "      <th>3</th>\n",
       "      <td>Positive</td>\n",
       "      <td>0.972216</td>\n",
       "      <td>For Celebrity Game Face tonight: \\n\\nThese cou...</td>\n",
       "      <td>kevinhart4real</td>\n",
       "      <td>1.351701e+18</td>\n",
       "      <td>2021-01-20 01:18:07</td>\n",
       "    </tr>\n",
       "    <tr>\n",
       "      <th>4</th>\n",
       "      <td>Positive</td>\n",
       "      <td>0.634962</td>\n",
       "      <td>Haters will say that I’m not tall..... 🤷🏾‍♂️ s...</td>\n",
       "      <td>kevinhart4real</td>\n",
       "      <td>1.351641e+18</td>\n",
       "      <td>2021-01-19 21:20:56</td>\n",
       "    </tr>\n",
       "    <tr>\n",
       "      <th>5</th>\n",
       "      <td>Positive</td>\n",
       "      <td>0.599475</td>\n",
       "      <td>Shot by @aspictures &amp;amp; styled by @ashleynor...</td>\n",
       "      <td>kevinhart4real</td>\n",
       "      <td>1.351614e+18</td>\n",
       "      <td>2021-01-19 19:33:52</td>\n",
       "    </tr>\n",
       "    <tr>\n",
       "      <th>6</th>\n",
       "      <td>Positive</td>\n",
       "      <td>0.624147</td>\n",
       "      <td>Shot by @aspictures &amp;amp; styled by @ashleynor...</td>\n",
       "      <td>kevinhart4real</td>\n",
       "      <td>1.351332e+18</td>\n",
       "      <td>2021-01-19 00:53:40</td>\n",
       "    </tr>\n",
       "    <tr>\n",
       "      <th>7</th>\n",
       "      <td>Positive</td>\n",
       "      <td>0.624147</td>\n",
       "      <td>Shot by @aspictures &amp;amp; styled by @scootscoo...</td>\n",
       "      <td>kevinhart4real</td>\n",
       "      <td>1.351216e+18</td>\n",
       "      <td>2021-01-18 17:13:43</td>\n",
       "    </tr>\n",
       "    <tr>\n",
       "      <th>8</th>\n",
       "      <td>Positive</td>\n",
       "      <td>0.614195</td>\n",
       "      <td>Happy Sunday....Shot by @aspictures &amp;amp; styl...</td>\n",
       "      <td>kevinhart4real</td>\n",
       "      <td>1.350888e+18</td>\n",
       "      <td>2021-01-17 19:29:53</td>\n",
       "    </tr>\n",
       "    <tr>\n",
       "      <th>9</th>\n",
       "      <td>Positive</td>\n",
       "      <td>0.670969</td>\n",
       "      <td>Shot by the amazing @aspictures &amp;amp; styled b...</td>\n",
       "      <td>kevinhart4real</td>\n",
       "      <td>1.350478e+18</td>\n",
       "      <td>2021-01-16 16:20:10</td>\n",
       "    </tr>\n",
       "  </tbody>\n",
       "</table>\n",
       "</div>"
      ],
      "text/plain": [
       "      label     score                                               text  \\\n",
       "0  Positive  0.515525                     😂😂😂😂😂😂 https://t.co/S6bufs38c6   \n",
       "1  Positive  0.709734  Mood on this beautiful Thursday.... #LiveLoveL...   \n",
       "2  Positive  0.664074        Just posted a photo https://t.co/QA4YrxAD39   \n",
       "3  Positive  0.972216  For Celebrity Game Face tonight: \\n\\nThese cou...   \n",
       "4  Positive  0.634962  Haters will say that I’m not tall..... 🤷🏾‍♂️ s...   \n",
       "5  Positive  0.599475  Shot by @aspictures &amp; styled by @ashleynor...   \n",
       "6  Positive  0.624147  Shot by @aspictures &amp; styled by @ashleynor...   \n",
       "7  Positive  0.624147  Shot by @aspictures &amp; styled by @scootscoo...   \n",
       "8  Positive  0.614195  Happy Sunday....Shot by @aspictures &amp; styl...   \n",
       "9  Positive  0.670969  Shot by the amazing @aspictures &amp; styled b...   \n",
       "\n",
       "             user      tweet_id             datetime  \n",
       "0  kevinhart4real  1.352446e+18  2021-01-22 02:41:31  \n",
       "1  kevinhart4real  1.352360e+18  2021-01-21 21:00:42  \n",
       "2  kevinhart4real  1.352297e+18  2021-01-21 16:47:20  \n",
       "3  kevinhart4real  1.351701e+18  2021-01-20 01:18:07  \n",
       "4  kevinhart4real  1.351641e+18  2021-01-19 21:20:56  \n",
       "5  kevinhart4real  1.351614e+18  2021-01-19 19:33:52  \n",
       "6  kevinhart4real  1.351332e+18  2021-01-19 00:53:40  \n",
       "7  kevinhart4real  1.351216e+18  2021-01-18 17:13:43  \n",
       "8  kevinhart4real  1.350888e+18  2021-01-17 19:29:53  \n",
       "9  kevinhart4real  1.350478e+18  2021-01-16 16:20:10  "
      ]
     },
     "execution_count": 27,
     "metadata": {},
     "output_type": "execute_result"
    }
   ],
   "source": [
    "%%time\n",
    "# Prediction results to DataFrame\n",
    "df = pd.DataFrame()\n",
    "\n",
    "for i in text:\n",
    "    df = df.append(predict(i), ignore_index=True)\n",
    "    \n",
    "df['user'] = tweet_all['Username_Query'].values#[0:10]\n",
    "df['tweet_id'] = tweet_all['Tweet Id'].values#[0:10]\n",
    "df['datetime'] = tweet_all['Datetime'].values#[0:10]\n",
    "df.to_csv('model1_predictions.csv', encoding='utf-8', index=False)\n",
    "df.head(10)"
   ]
  },
  {
   "cell_type": "code",
   "execution_count": null,
   "metadata": {},
   "outputs": [],
   "source": []
  }
 ],
 "metadata": {
  "kernelspec": {
   "display_name": "Python 3",
   "language": "python",
   "name": "python3"
  },
  "language_info": {
   "codemirror_mode": {
    "name": "ipython",
    "version": 3
   },
   "file_extension": ".py",
   "mimetype": "text/x-python",
   "name": "python",
   "nbconvert_exporter": "python",
   "pygments_lexer": "ipython3",
   "version": "3.8.3"
  }
 },
 "nbformat": 4,
 "nbformat_minor": 4
}
