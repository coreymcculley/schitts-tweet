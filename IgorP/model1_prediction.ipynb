{
 "cells": [
  {
   "cell_type": "markdown",
   "metadata": {},
   "source": [
    "## Notebook to get Model1 Predictions"
   ]
  },
  {
   "cell_type": "code",
   "execution_count": 9,
   "metadata": {},
   "outputs": [],
   "source": [
    "# Import Libraries\n",
    "\n",
    "import pandas as pd\n",
    "# import numpy as np\n",
    "# import seaborn as sns\n",
    "# import matplotlib.pyplot as plt\n",
    "# import glob\n",
    "# import re\n",
    "import os\n",
    "\n",
    "# import nltk \n",
    "# #nltk.download('stopwords')\n",
    "# #nltk.download('wordnet')\n",
    "# from nltk.corpus import stopwords\n",
    "# from nltk.stem import WordNetLemmatizer\n",
    "\n",
    "# from wordcloud import WordCloud\n",
    "\n",
    "# from PIL import Image\n",
    "\n",
    "# from sklearn.model_selection import train_test_split\n",
    "\n",
    "# from keras.preprocessing.text import Tokenizer\n",
    "# from tensorflow.keras.preprocessing.sequence import pad_sequences\n",
    "\n",
    "# import gensim.models.keyedvectors as word2vec\n",
    "\n",
    "# from tensorflow.keras.layers import Embedding,Dense,LSTM,Bidirectional\n",
    "# from tensorflow.keras.layers import BatchNormalization,Dropout\n",
    "\n",
    "# from tensorflow.keras import Sequential\n",
    "\n",
    "import pickle\n",
    "from keras.models import load_model"
   ]
  },
  {
   "cell_type": "code",
   "execution_count": 2,
   "metadata": {},
   "outputs": [],
   "source": [
    "# Read input CSV file with scrapped tweets\n",
    "path = r'Tweet_All.csv'\n",
    "tweet_all = pd.read_csv(path)"
   ]
  },
  {
   "cell_type": "code",
   "execution_count": 3,
   "metadata": {},
   "outputs": [
    {
     "data": {
      "text/html": [
       "<div>\n",
       "<style scoped>\n",
       "    .dataframe tbody tr th:only-of-type {\n",
       "        vertical-align: middle;\n",
       "    }\n",
       "\n",
       "    .dataframe tbody tr th {\n",
       "        vertical-align: top;\n",
       "    }\n",
       "\n",
       "    .dataframe thead th {\n",
       "        text-align: right;\n",
       "    }\n",
       "</style>\n",
       "<table border=\"1\" class=\"dataframe\">\n",
       "  <thead>\n",
       "    <tr style=\"text-align: right;\">\n",
       "      <th></th>\n",
       "      <th>Username_Query</th>\n",
       "      <th>Datetime</th>\n",
       "      <th>Tweet Id</th>\n",
       "      <th>Text</th>\n",
       "    </tr>\n",
       "  </thead>\n",
       "  <tbody>\n",
       "    <tr>\n",
       "      <th>0</th>\n",
       "      <td>kevinhart4real</td>\n",
       "      <td>2021-01-22 02:41:31</td>\n",
       "      <td>1.352446e+18</td>\n",
       "      <td>😂😂😂😂😂😂 https://t.co/S6bufs38c6</td>\n",
       "    </tr>\n",
       "    <tr>\n",
       "      <th>1</th>\n",
       "      <td>kevinhart4real</td>\n",
       "      <td>2021-01-21 21:00:42</td>\n",
       "      <td>1.352360e+18</td>\n",
       "      <td>Mood on this beautiful Thursday.... #LiveLoveL...</td>\n",
       "    </tr>\n",
       "    <tr>\n",
       "      <th>2</th>\n",
       "      <td>kevinhart4real</td>\n",
       "      <td>2021-01-21 16:47:20</td>\n",
       "      <td>1.352297e+18</td>\n",
       "      <td>Just posted a photo https://t.co/QA4YrxAD39</td>\n",
       "    </tr>\n",
       "    <tr>\n",
       "      <th>3</th>\n",
       "      <td>kevinhart4real</td>\n",
       "      <td>2021-01-20 01:18:07</td>\n",
       "      <td>1.351701e+18</td>\n",
       "      <td>For Celebrity Game Face tonight: \\n\\nThese cou...</td>\n",
       "    </tr>\n",
       "    <tr>\n",
       "      <th>4</th>\n",
       "      <td>kevinhart4real</td>\n",
       "      <td>2021-01-19 21:20:56</td>\n",
       "      <td>1.351641e+18</td>\n",
       "      <td>Haters will say that I’m not tall..... 🤷🏾‍♂️ s...</td>\n",
       "    </tr>\n",
       "    <tr>\n",
       "      <th>...</th>\n",
       "      <td>...</td>\n",
       "      <td>...</td>\n",
       "      <td>...</td>\n",
       "      <td>...</td>\n",
       "    </tr>\n",
       "    <tr>\n",
       "      <th>21558</th>\n",
       "      <td>riceuniversity</td>\n",
       "      <td>2019-07-18 15:49:29</td>\n",
       "      <td>1.151882e+18</td>\n",
       "      <td>RT @ScottESolomon: Great to see this at @Moody...</td>\n",
       "    </tr>\n",
       "    <tr>\n",
       "      <th>21559</th>\n",
       "      <td>riceuniversity</td>\n",
       "      <td>2019-07-18 15:08:59</td>\n",
       "      <td>1.151871e+18</td>\n",
       "      <td>@scifiya7th @RiceU_STEM @conocophillips Yes of...</td>\n",
       "    </tr>\n",
       "    <tr>\n",
       "      <th>21560</th>\n",
       "      <td>riceuniversity</td>\n",
       "      <td>2019-07-18 14:24:17</td>\n",
       "      <td>1.151860e+18</td>\n",
       "      <td>Space veterans who worked on Apollo 11 joined ...</td>\n",
       "    </tr>\n",
       "    <tr>\n",
       "      <th>21561</th>\n",
       "      <td>riceuniversity</td>\n",
       "      <td>2019-07-18 14:04:11</td>\n",
       "      <td>1.151855e+18</td>\n",
       "      <td>RT @NASA_Johnson: President Kennedy’s challeng...</td>\n",
       "    </tr>\n",
       "    <tr>\n",
       "      <th>21562</th>\n",
       "      <td>riceuniversity</td>\n",
       "      <td>2019-07-18 14:02:30</td>\n",
       "      <td>1.151855e+18</td>\n",
       "      <td>RT @RiceMECH: Americans will land on the moon ...</td>\n",
       "    </tr>\n",
       "  </tbody>\n",
       "</table>\n",
       "<p>21563 rows × 4 columns</p>\n",
       "</div>"
      ],
      "text/plain": [
       "       Username_Query             Datetime      Tweet Id  \\\n",
       "0      kevinhart4real  2021-01-22 02:41:31  1.352446e+18   \n",
       "1      kevinhart4real  2021-01-21 21:00:42  1.352360e+18   \n",
       "2      kevinhart4real  2021-01-21 16:47:20  1.352297e+18   \n",
       "3      kevinhart4real  2021-01-20 01:18:07  1.351701e+18   \n",
       "4      kevinhart4real  2021-01-19 21:20:56  1.351641e+18   \n",
       "...               ...                  ...           ...   \n",
       "21558  riceuniversity  2019-07-18 15:49:29  1.151882e+18   \n",
       "21559  riceuniversity  2019-07-18 15:08:59  1.151871e+18   \n",
       "21560  riceuniversity  2019-07-18 14:24:17  1.151860e+18   \n",
       "21561  riceuniversity  2019-07-18 14:04:11  1.151855e+18   \n",
       "21562  riceuniversity  2019-07-18 14:02:30  1.151855e+18   \n",
       "\n",
       "                                                    Text  \n",
       "0                         😂😂😂😂😂😂 https://t.co/S6bufs38c6  \n",
       "1      Mood on this beautiful Thursday.... #LiveLoveL...  \n",
       "2            Just posted a photo https://t.co/QA4YrxAD39  \n",
       "3      For Celebrity Game Face tonight: \\n\\nThese cou...  \n",
       "4      Haters will say that I’m not tall..... 🤷🏾‍♂️ s...  \n",
       "...                                                  ...  \n",
       "21558  RT @ScottESolomon: Great to see this at @Moody...  \n",
       "21559  @scifiya7th @RiceU_STEM @conocophillips Yes of...  \n",
       "21560  Space veterans who worked on Apollo 11 joined ...  \n",
       "21561  RT @NASA_Johnson: President Kennedy’s challeng...  \n",
       "21562  RT @RiceMECH: Americans will land on the moon ...  \n",
       "\n",
       "[21563 rows x 4 columns]"
      ]
     },
     "execution_count": 3,
     "metadata": {},
     "output_type": "execute_result"
    }
   ],
   "source": [
    "# dropping duplicates in the dataframe\n",
    "tweet_all = tweet_all.drop_duplicates(subset=['Text'], keep='first').reset_index(drop=True)\n",
    "tweet_all"
   ]
  },
  {
   "cell_type": "code",
   "execution_count": 4,
   "metadata": {},
   "outputs": [
    {
     "name": "stdout",
     "output_type": "stream",
     "text": [
      "Model1 Loaded\n",
      "Tokenizer1 Loaded\n"
     ]
    }
   ],
   "source": [
    "# loading model\n",
    "model = load_model('/Users/user/Desktop/Project3/model/model1.h5')\n",
    "print(\"Model1 Loaded\")\n",
    "file = open('/Users/user/Desktop/Project3/model/tokenizer1.pickle', 'rb')\n",
    "tokens = pickle.load(file)\n",
    "file.close()\n",
    "print(\"Tokenizer1 Loaded\")"
   ]
  },
  {
   "cell_type": "code",
   "execution_count": 5,
   "metadata": {},
   "outputs": [],
   "source": [
    "# read \"text\" column from all scrapped tweets or enter a custom phrase\n",
    "text = list(tweet_all.Text)[0:10]\n",
    "#text = ['I love spring', 'I have winter']"
   ]
  },
  {
   "cell_type": "markdown",
   "metadata": {},
   "source": [
    "#### Model Prediction"
   ]
  },
  {
   "cell_type": "code",
   "execution_count": 14,
   "metadata": {},
   "outputs": [],
   "source": [
    "# Define score labels and model prediction functions\n",
    "def decode_sentiment(score):\n",
    "    label = None\n",
    "    if score <= 0.5:\n",
    "        label = 'Negative'\n",
    "    else:\n",
    "        label = 'Positive'\n",
    "    \n",
    "    return label\n",
    "\n",
    "def predict(text):\n",
    "    x_test = pad_sequences(tokens.texts_to_sequences([text]), maxlen=max_length,padding=padd_type,truncating=trunc_type)\n",
    "    score = model.predict([x_test])\n",
    "    label = decode_sentiment(score)\n",
    "    \n",
    "    return  {\"text\": text, \"label\": label, \"score\": float(score)}"
   ]
  },
  {
   "cell_type": "code",
   "execution_count": null,
   "metadata": {},
   "outputs": [],
   "source": []
  }
 ],
 "metadata": {
  "kernelspec": {
   "display_name": "Python 3",
   "language": "python",
   "name": "python3"
  },
  "language_info": {
   "codemirror_mode": {
    "name": "ipython",
    "version": 3
   },
   "file_extension": ".py",
   "mimetype": "text/x-python",
   "name": "python",
   "nbconvert_exporter": "python",
   "pygments_lexer": "ipython3",
   "version": "3.8.3"
  }
 },
 "nbformat": 4,
 "nbformat_minor": 4
}
