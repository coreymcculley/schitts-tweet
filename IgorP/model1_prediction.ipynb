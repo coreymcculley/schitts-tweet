{
 "cells": [
  {
   "cell_type": "markdown",
   "metadata": {},
   "source": [
    "## Notebook to get Model1 Predictions"
   ]
  },
  {
   "cell_type": "code",
   "execution_count": 23,
   "metadata": {},
   "outputs": [],
   "source": [
    "# Import Libraries\n",
    "\n",
    "import pandas as pd\n",
    "import os\n",
    "from tensorflow.keras.preprocessing.sequence import pad_sequences\n",
    "import pickle\n",
    "from keras.models import load_model"
   ]
  },
  {
   "cell_type": "code",
   "execution_count": 2,
   "metadata": {},
   "outputs": [],
   "source": [
    "# Read input CSV file with scrapped tweets\n",
    "path = r'Tweet_All.csv'\n",
    "tweet_all = pd.read_csv(path)"
   ]
  },
  {
   "cell_type": "code",
   "execution_count": 15,
   "metadata": {},
   "outputs": [
    {
     "data": {
      "text/html": [
       "<div>\n",
       "<style scoped>\n",
       "    .dataframe tbody tr th:only-of-type {\n",
       "        vertical-align: middle;\n",
       "    }\n",
       "\n",
       "    .dataframe tbody tr th {\n",
       "        vertical-align: top;\n",
       "    }\n",
       "\n",
       "    .dataframe thead th {\n",
       "        text-align: right;\n",
       "    }\n",
       "</style>\n",
       "<table border=\"1\" class=\"dataframe\">\n",
       "  <thead>\n",
       "    <tr style=\"text-align: right;\">\n",
       "      <th></th>\n",
       "      <th>Username_Query</th>\n",
       "      <th>Datetime</th>\n",
       "      <th>Tweet Id</th>\n",
       "      <th>Text</th>\n",
       "    </tr>\n",
       "  </thead>\n",
       "  <tbody>\n",
       "    <tr>\n",
       "      <th>0</th>\n",
       "      <td>kevinhart4real</td>\n",
       "      <td>2021-01-22 02:41:31</td>\n",
       "      <td>1.352446e+18</td>\n",
       "      <td>😂😂😂😂😂😂 https://t.co/S6bufs38c6</td>\n",
       "    </tr>\n",
       "    <tr>\n",
       "      <th>1</th>\n",
       "      <td>kevinhart4real</td>\n",
       "      <td>2021-01-21 21:00:42</td>\n",
       "      <td>1.352360e+18</td>\n",
       "      <td>Mood on this beautiful Thursday.... #LiveLoveL...</td>\n",
       "    </tr>\n",
       "    <tr>\n",
       "      <th>2</th>\n",
       "      <td>kevinhart4real</td>\n",
       "      <td>2021-01-21 16:47:20</td>\n",
       "      <td>1.352297e+18</td>\n",
       "      <td>Just posted a photo https://t.co/QA4YrxAD39</td>\n",
       "    </tr>\n",
       "  </tbody>\n",
       "</table>\n",
       "</div>"
      ],
      "text/plain": [
       "   Username_Query             Datetime      Tweet Id  \\\n",
       "0  kevinhart4real  2021-01-22 02:41:31  1.352446e+18   \n",
       "1  kevinhart4real  2021-01-21 21:00:42  1.352360e+18   \n",
       "2  kevinhart4real  2021-01-21 16:47:20  1.352297e+18   \n",
       "\n",
       "                                                Text  \n",
       "0                     😂😂😂😂😂😂 https://t.co/S6bufs38c6  \n",
       "1  Mood on this beautiful Thursday.... #LiveLoveL...  \n",
       "2        Just posted a photo https://t.co/QA4YrxAD39  "
      ]
     },
     "execution_count": 15,
     "metadata": {},
     "output_type": "execute_result"
    }
   ],
   "source": [
    "# dropping duplicates in the dataframe\n",
    "tweet_all = tweet_all.drop_duplicates(subset=['Text'], keep='first').reset_index(drop=True)\n",
    "tweet_all.head(3)"
   ]
  },
  {
   "cell_type": "code",
   "execution_count": 4,
   "metadata": {},
   "outputs": [
    {
     "name": "stdout",
     "output_type": "stream",
     "text": [
      "Model1 Loaded\n",
      "Tokenizer1 Loaded\n"
     ]
    }
   ],
   "source": [
    "# loading model\n",
    "model = load_model('/Users/user/Desktop/Project3/model/model1.h5')\n",
    "print(\"Model1 Loaded\")\n",
    "file = open('/Users/user/Desktop/Project3/model/tokenizer1.pickle', 'rb')\n",
    "tokens = pickle.load(file)\n",
    "file.close()\n",
    "print(\"Tokenizer1 Loaded\")"
   ]
  },
  {
   "cell_type": "code",
   "execution_count": 25,
   "metadata": {},
   "outputs": [],
   "source": [
    "# read \"text\" column from all scrapped tweets or enter a custom phrase\n",
    "text = list(tweet_all.Text)#[0:10]\n",
    "#text = ['I love spring', 'I have winter']"
   ]
  },
  {
   "cell_type": "markdown",
   "metadata": {},
   "source": [
    "#### Model Prediction"
   ]
  },
  {
   "cell_type": "code",
   "execution_count": 26,
   "metadata": {},
   "outputs": [],
   "source": [
    "# Define score labels and model prediction functions\n",
    "max_length = 20\n",
    "trunc_type = 'post'\n",
    "padd_type = 'post'\n",
    "\n",
    "\n",
    "def decode_sentiment(score):\n",
    "    label = None\n",
    "    if score <= 0.5:\n",
    "        label = 'Negative'\n",
    "    else:\n",
    "        label = 'Positive'\n",
    "    \n",
    "    return label\n",
    "\n",
    "def predict(text):\n",
    "    x_test = pad_sequences(tokens.texts_to_sequences([text]), maxlen=max_length,padding=padd_type,truncating=trunc_type)\n",
    "    score = model.predict([x_test])\n",
    "    label = decode_sentiment(score)\n",
    "    \n",
    "    return  {\"text\": text, \"label\": label, \"score\": float(score)}"
   ]
  },
  {
   "cell_type": "code",
   "execution_count": null,
   "metadata": {},
   "outputs": [],
   "source": [
    "%%time\n",
    "# Prediction results to DataFrame\n",
    "df = pd.DataFrame()\n",
    "\n",
    "for i in text:\n",
    "    df = df.append(predict(i), ignore_index=True)\n",
    "    \n",
    "df['user'] = tweet_all['Username_Query'].values#[0:10]\n",
    "df['tweet_id'] = tweet_all['Tweet Id'].values#[0:10]\n",
    "df['datetime'] = tweet_all['Datetime'].values#[0:10]\n",
    "df.to_csv('model1_predictions.csv', encoding='utf-8', index=False)\n",
    "df.head(10)"
   ]
  },
  {
   "cell_type": "code",
   "execution_count": null,
   "metadata": {},
   "outputs": [],
   "source": []
  }
 ],
 "metadata": {
  "kernelspec": {
   "display_name": "Python 3",
   "language": "python",
   "name": "python3"
  },
  "language_info": {
   "codemirror_mode": {
    "name": "ipython",
    "version": 3
   },
   "file_extension": ".py",
   "mimetype": "text/x-python",
   "name": "python",
   "nbconvert_exporter": "python",
   "pygments_lexer": "ipython3",
   "version": "3.8.3"
  }
 },
 "nbformat": 4,
 "nbformat_minor": 4
}
