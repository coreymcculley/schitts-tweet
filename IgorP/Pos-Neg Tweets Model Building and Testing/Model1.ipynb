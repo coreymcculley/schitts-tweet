{
 "cells": [
  {
   "cell_type": "markdown",
   "metadata": {},
   "source": [
    "## Custom tweets Positive/Negative Score Prediction Model"
   ]
  },
  {
   "cell_type": "markdown",
   "metadata": {},
   "source": [
    "### This model assembled, trained and verified on Google Colab environment due to computation performance limitations on a local machine"
   ]
  },
  {
   "cell_type": "code",
   "execution_count": 1,
   "metadata": {
    "executionInfo": {
     "elapsed": 3492,
     "status": "ok",
     "timestamp": 1611342433694,
     "user": {
      "displayName": "Igor Pavlunin",
      "photoUrl": "https://lh3.googleusercontent.com/a-/AOh14GjEA3K3je-1IQ0G-G1pJD9CXqF3bKpqPv8imdN8jg=s64",
      "userId": "11387440207382201115"
     },
     "user_tz": 360
    },
    "id": "H_jjSsz6V5fp"
   },
   "outputs": [],
   "source": [
    "# Utilities\n",
    "import re\n",
    "import pickle\n",
    "import numpy as np\n",
    "import pandas as pd\n",
    "\n",
    "# Plot libraries\n",
    "import seaborn as sns\n",
    "from wordcloud import WordCloud\n",
    "import matplotlib.pyplot as plt\n",
    "\n",
    "# Text Processing Libraries\n",
    "from sklearn.model_selection import train_test_split\n",
    "from gensim.models import Word2Vec\n",
    "from tensorflow.keras.preprocessing.text import Tokenizer\n",
    "from tensorflow.keras.preprocessing.sequence import pad_sequences\n",
    "from tensorflow.keras import Sequential\n",
    "from tensorflow.keras.layers import Bidirectional, GlobalMaxPool1D, Dense, LSTM, Conv1D, Embedding\n",
    "from tensorflow.keras.callbacks import ReduceLROnPlateau, EarlyStopping"
   ]
  },
  {
   "cell_type": "code",
   "execution_count": 1,
   "metadata": {},
   "outputs": [],
   "source": [
    "# Mounting Google Drive to access work directory (identity authentification is required)"
   ]
  },
  {
   "cell_type": "code",
   "execution_count": 2,
   "metadata": {
    "colab": {
     "base_uri": "https://localhost:8080/"
    },
    "executionInfo": {
     "elapsed": 38612,
     "status": "ok",
     "timestamp": 1611342468823,
     "user": {
      "displayName": "Igor Pavlunin",
      "photoUrl": "https://lh3.googleusercontent.com/a-/AOh14GjEA3K3je-1IQ0G-G1pJD9CXqF3bKpqPv8imdN8jg=s64",
      "userId": "11387440207382201115"
     },
     "user_tz": 360
    },
    "id": "ZIJ4fQqIWSKH",
    "outputId": "e3f58f6c-2079-4019-bd95-8adbec4050a0"
   },
   "outputs": [
    {
     "name": "stdout",
     "output_type": "stream",
     "text": [
      "Mounted at /content/drive\n"
     ]
    }
   ],
   "source": [
    "from google.colab import drive \n",
    "drive.mount('/content/drive')"
   ]
  },
  {
   "cell_type": "code",
   "execution_count": 3,
   "metadata": {},
   "outputs": [],
   "source": [
    "# Retrieving DataSet from Google Drive.\n",
    "# Alternatively DataSet can be donwloaded here https://www.kaggle.com/ferno2/training1600000processednoemoticoncsv?select=training.1600000.processed.noemoticon.csv"
   ]
  },
  {
   "cell_type": "code",
   "execution_count": 3,
   "metadata": {
    "colab": {
     "base_uri": "https://localhost:8080/",
     "height": 204
    },
    "executionInfo": {
     "elapsed": 43931,
     "status": "ok",
     "timestamp": 1611342474157,
     "user": {
      "displayName": "Igor Pavlunin",
      "photoUrl": "https://lh3.googleusercontent.com/a-/AOh14GjEA3K3je-1IQ0G-G1pJD9CXqF3bKpqPv8imdN8jg=s64",
      "userId": "11387440207382201115"
     },
     "user_tz": 360
    },
    "id": "3er5CzaHWBhb",
    "outputId": "ce8a5ecb-7026-4024-8d90-a850d90e2341"
   },
   "outputs": [
    {
     "data": {
      "text/html": [
       "<div>\n",
       "<style scoped>\n",
       "    .dataframe tbody tr th:only-of-type {\n",
       "        vertical-align: middle;\n",
       "    }\n",
       "\n",
       "    .dataframe tbody tr th {\n",
       "        vertical-align: top;\n",
       "    }\n",
       "\n",
       "    .dataframe thead th {\n",
       "        text-align: right;\n",
       "    }\n",
       "</style>\n",
       "<table border=\"1\" class=\"dataframe\">\n",
       "  <thead>\n",
       "    <tr style=\"text-align: right;\">\n",
       "      <th></th>\n",
       "      <th>sentiment</th>\n",
       "      <th>ids</th>\n",
       "      <th>date</th>\n",
       "      <th>flag</th>\n",
       "      <th>user</th>\n",
       "      <th>text</th>\n",
       "    </tr>\n",
       "  </thead>\n",
       "  <tbody>\n",
       "    <tr>\n",
       "      <th>0</th>\n",
       "      <td>0</td>\n",
       "      <td>1467810369</td>\n",
       "      <td>Mon Apr 06 22:19:45 PDT 2009</td>\n",
       "      <td>NO_QUERY</td>\n",
       "      <td>_TheSpecialOne_</td>\n",
       "      <td>@switchfoot http://twitpic.com/2y1zl - Awww, t...</td>\n",
       "    </tr>\n",
       "    <tr>\n",
       "      <th>1</th>\n",
       "      <td>0</td>\n",
       "      <td>1467810672</td>\n",
       "      <td>Mon Apr 06 22:19:49 PDT 2009</td>\n",
       "      <td>NO_QUERY</td>\n",
       "      <td>scotthamilton</td>\n",
       "      <td>is upset that he can't update his Facebook by ...</td>\n",
       "    </tr>\n",
       "    <tr>\n",
       "      <th>2</th>\n",
       "      <td>0</td>\n",
       "      <td>1467810917</td>\n",
       "      <td>Mon Apr 06 22:19:53 PDT 2009</td>\n",
       "      <td>NO_QUERY</td>\n",
       "      <td>mattycus</td>\n",
       "      <td>@Kenichan I dived many times for the ball. Man...</td>\n",
       "    </tr>\n",
       "    <tr>\n",
       "      <th>3</th>\n",
       "      <td>0</td>\n",
       "      <td>1467811184</td>\n",
       "      <td>Mon Apr 06 22:19:57 PDT 2009</td>\n",
       "      <td>NO_QUERY</td>\n",
       "      <td>ElleCTF</td>\n",
       "      <td>my whole body feels itchy and like its on fire</td>\n",
       "    </tr>\n",
       "    <tr>\n",
       "      <th>4</th>\n",
       "      <td>0</td>\n",
       "      <td>1467811193</td>\n",
       "      <td>Mon Apr 06 22:19:57 PDT 2009</td>\n",
       "      <td>NO_QUERY</td>\n",
       "      <td>Karoli</td>\n",
       "      <td>@nationwideclass no, it's not behaving at all....</td>\n",
       "    </tr>\n",
       "  </tbody>\n",
       "</table>\n",
       "</div>"
      ],
      "text/plain": [
       "   sentiment  ...                                               text\n",
       "0          0  ...  @switchfoot http://twitpic.com/2y1zl - Awww, t...\n",
       "1          0  ...  is upset that he can't update his Facebook by ...\n",
       "2          0  ...  @Kenichan I dived many times for the ball. Man...\n",
       "3          0  ...    my whole body feels itchy and like its on fire \n",
       "4          0  ...  @nationwideclass no, it's not behaving at all....\n",
       "\n",
       "[5 rows x 6 columns]"
      ]
     },
     "execution_count": 3,
     "metadata": {
      "tags": []
     },
     "output_type": "execute_result"
    }
   ],
   "source": [
    "DATASET_COLUMNS  = [\"sentiment\", \"ids\", \"date\", \"flag\", \"user\", \"text\"]\n",
    "DATASET_ENCODING = \"ISO-8859-1\"\n",
    "dataset = pd.read_csv('drive/My Drive/Model1/training.1600000.processed.noemoticon.csv',\n",
    "                      encoding=DATASET_ENCODING , names=DATASET_COLUMNS)\n",
    "dataset.head()"
   ]
  },
  {
   "cell_type": "code",
   "execution_count": 4,
   "metadata": {},
   "outputs": [],
   "source": [
    "# Removing the unnecessary columns and replacing the values for sentiment column"
   ]
  },
  {
   "cell_type": "code",
   "execution_count": 4,
   "metadata": {
    "executionInfo": {
     "elapsed": 43921,
     "status": "ok",
     "timestamp": 1611342474158,
     "user": {
      "displayName": "Igor Pavlunin",
      "photoUrl": "https://lh3.googleusercontent.com/a-/AOh14GjEA3K3je-1IQ0G-G1pJD9CXqF3bKpqPv8imdN8jg=s64",
      "userId": "11387440207382201115"
     },
     "user_tz": 360
    },
    "id": "L18Y85fgWrVv"
   },
   "outputs": [],
   "source": [
    "dataset = dataset[['sentiment','text']]\n",
    "dataset['sentiment'] = dataset['sentiment'].replace(4,1)"
   ]
  },
  {
   "cell_type": "code",
   "execution_count": 5,
   "metadata": {},
   "outputs": [],
   "source": [
    "# Plotting positive vs negative tweets distribution in the dataset"
   ]
  },
  {
   "cell_type": "code",
   "execution_count": 5,
   "metadata": {
    "colab": {
     "base_uri": "https://localhost:8080/",
     "height": 295
    },
    "executionInfo": {
     "elapsed": 44335,
     "status": "ok",
     "timestamp": 1611342474581,
     "user": {
      "displayName": "Igor Pavlunin",
      "photoUrl": "https://lh3.googleusercontent.com/a-/AOh14GjEA3K3je-1IQ0G-G1pJD9CXqF3bKpqPv8imdN8jg=s64",
      "userId": "11387440207382201115"
     },
     "user_tz": 360
    },
    "id": "mldzEq_TWv6N",
    "outputId": "fd3a7bbe-e06a-4bb6-965b-d6c32f310b72"
   },
   "outputs": [
    {
     "data": {
      "image/png": "[encoded data removed]",
      "text/plain": [
       "<Figure size 432x288 with 1 Axes>"
      ]
     },
     "metadata": {
      "needs_background": "light",
      "tags": []
     },
     "output_type": "display_data"
    }
   ],
   "source": [
    "ax = dataset.groupby('sentiment').count().plot(kind='bar', title='Distribution of data',\n",
    "                                               legend=False)\n",
    "ax = ax.set_xticklabels(['Negative','Positive'], rotation=0)"
   ]
  },
  {
   "cell_type": "code",
   "execution_count": 6,
   "metadata": {
    "executionInfo": {
     "elapsed": 44750,
     "status": "ok",
     "timestamp": 1611342475004,
     "user": {
      "displayName": "Igor Pavlunin",
      "photoUrl": "https://lh3.googleusercontent.com/a-/AOh14GjEA3K3je-1IQ0G-G1pJD9CXqF3bKpqPv8imdN8jg=s64",
      "userId": "11387440207382201115"
     },
     "user_tz": 360
    },
    "id": "G9SD6_vVW2g8"
   },
   "outputs": [],
   "source": [
    "# Reading eng_contractions.csv and storing it as a dict. This file used to define meaning of short-cut words\n",
    "contractions = pd.read_csv('drive/My Drive/Model1/eng_contractions.csv')\n",
    "contractions.index = contractions.index.str.lower()\n",
    "contractions.Meaning = contractions.Meaning.str.lower()\n",
    "contractions_dict = contractions.to_dict()['Meaning']\n",
    "\n",
    "# Cleaning-up links, usernames and 3+ consecutive letters\n",
    "urlPattern        = r\"((http://)[^ ]*|(https://)[^ ]*|(www\\.)[^ ]*)\"\n",
    "userPattern       = '@[^\\s]+'\n",
    "hashtagPattern    = '#[^\\s]+'\n",
    "alphaPattern      = \"[^a-z0-9<>]\"\n",
    "sequencePattern   = r\"(.)\\1\\1+\"\n",
    "seqReplacePattern = r\"\\1\\1\"\n",
    "\n",
    "# Emojis meanings\n",
    "smileemoji        = r\"[8:=;]['`\\-]?[)d]+\"\n",
    "sademoji          = r\"[8:=;]['`\\-]?\\(+\"\n",
    "neutralemoji      = r\"[8:=;]['`\\-]?[\\/|l*]\"\n",
    "lolemoji          = r\"[8:=;]['`\\-]?p+\"\n",
    "\n",
    "def preprocess_apply(tweet):\n",
    "\n",
    "    tweet = tweet.lower()\n",
    "\n",
    "    # Replace all URls with '<url>'\n",
    "    tweet = re.sub(urlPattern,'<url>',tweet)\n",
    "    \n",
    "    # Replace @USERNAME to '<user>'.\n",
    "    tweet = re.sub(userPattern,'<user>', tweet)\n",
    "    \n",
    "    # Replace 3 or more consecutive letters by 2 letter.\n",
    "    tweet = re.sub(sequencePattern, seqReplacePattern, tweet)\n",
    "\n",
    "    # Replace all emojis.\n",
    "    tweet = re.sub(r'<3', '<heart>', tweet)\n",
    "    tweet = re.sub(smileemoji, '<smile>', tweet)\n",
    "    tweet = re.sub(sademoji, '<sadface>', tweet)\n",
    "    tweet = re.sub(neutralemoji, '<neutralface>', tweet)\n",
    "    tweet = re.sub(lolemoji, '<lolface>', tweet)\n",
    "\n",
    "    for contraction, replacement in contractions_dict.items():\n",
    "        tweet = tweet.replace(contraction, replacement)\n",
    "\n",
    "    # Remove non-alphanumeric and symbols\n",
    "    tweet = re.sub(alphaPattern, ' ', tweet)\n",
    "\n",
    "    # Adding space on either side of '/' to seperate words (After replacing URLS).\n",
    "    tweet = re.sub(r'/', ' / ', tweet)\n",
    "    return tweet"
   ]
  },
  {
   "cell_type": "code",
   "execution_count": 6,
   "metadata": {},
   "outputs": [],
   "source": [
    "# Cleaning-up entire tweet text in the dataset"
   ]
  },
  {
   "cell_type": "code",
   "execution_count": 7,
   "metadata": {
    "colab": {
     "base_uri": "https://localhost:8080/"
    },
    "executionInfo": {
     "elapsed": 135254,
     "status": "ok",
     "timestamp": 1611342565516,
     "user": {
      "displayName": "Igor Pavlunin",
      "photoUrl": "https://lh3.googleusercontent.com/a-/AOh14GjEA3K3je-1IQ0G-G1pJD9CXqF3bKpqPv8imdN8jg=s64",
      "userId": "11387440207382201115"
     },
     "user_tz": 360
    },
    "id": "BBSEcsi3aqP8",
    "outputId": "f63ad3b4-e15e-475d-896d-aad6147a8c9a"
   },
   "outputs": [
    {
     "name": "stdout",
     "output_type": "stream",
     "text": [
      "CPU times: user 1min 30s, sys: 187 ms, total: 1min 30s\n",
      "Wall time: 1min 30s\n"
     ]
    }
   ],
   "source": [
    "%%time\n",
    "dataset['processed_text'] = dataset.text.apply(preprocess_apply)"
   ]
  },
  {
   "cell_type": "code",
   "execution_count": 7,
   "metadata": {},
   "outputs": [],
   "source": [
    "# Original vs processed text"
   ]
  },
  {
   "cell_type": "code",
   "execution_count": 8,
   "metadata": {
    "colab": {
     "base_uri": "https://localhost:8080/"
    },
    "executionInfo": {
     "elapsed": 135407,
     "status": "ok",
     "timestamp": 1611342565680,
     "user": {
      "displayName": "Igor Pavlunin",
      "photoUrl": "https://lh3.googleusercontent.com/a-/AOh14GjEA3K3je-1IQ0G-G1pJD9CXqF3bKpqPv8imdN8jg=s64",
      "userId": "11387440207382201115"
     },
     "user_tz": 360
    },
    "id": "khHIC7bAbqp2",
    "outputId": "0c7a5574-79d6-4c2e-d118-f4b2ece69566"
   },
   "outputs": [
    {
     "name": "stdout",
     "output_type": "stream",
     "text": [
      "Text: @switchfoot http://twitpic.com/2y1zl - Awww, that's a bummer.  You shoulda got David Carr of Third Day to do it. ;D\n",
      "Processed: <user> <url>   aww  thatis a bummer   you shoulda got david carr of third day to do it  <smile>\n",
      "Text: is upset that he can't update his Facebook by texting it... and might cry as a result  School today also. Blah!\n",
      "Processed: is upset that he cannot update his facebook by texting it   and might cry as a result  school today also  blah \n",
      "Text: @Kenichan I dived many times for the ball. Managed to save 50%  The rest go out of bounds\n",
      "Processed: <user> i dived many times for the ball  managed to save 50   the rest go out of bounds\n",
      "Text: my whole body feels itchy and like its on fire \n",
      "Processed: my whole body feels itchy and like its on fire \n",
      "Text: @nationwideclass no, it's not behaving at all. i'm mad. why am i here? because I can't see you all over there. \n",
      "Processed: <user> no  it is not behaving at all  i am mad  why am i here  because i cannot see you all over there  \n",
      "Text: @Kwesidei not the whole crew \n",
      "Processed: <user> not the whole crew \n",
      "Text: Need a hug \n",
      "Processed: need a hug \n",
      "Text: @LOLTrish hey  long time no see! Yes.. Rains a bit ,only a bit  LOL , I'm fine thanks , how's you ?\n",
      "Processed: <user> hey  long time no see  yes   rains a bit  only a bit  lol   i am fine thanks   how is you  \n",
      "Text: @Tatiana_K nope they didn't have it \n",
      "Processed: <user> nope they did not have it \n",
      "Text: @twittera que me muera ? \n",
      "Processed: <user> que me muera   \n",
      "Text: spring break in plain city... it's snowing \n",
      "Processed: spring break in plain city   it is snowing \n"
     ]
    }
   ],
   "source": [
    "count=0\n",
    "for row in dataset.itertuples():\n",
    "    print(\"Text:\", row[2])\n",
    "    print(\"Processed:\", row[3])\n",
    "    count+=1\n",
    "    if count>10:\n",
    "        break"
   ]
  },
  {
   "cell_type": "code",
   "execution_count": 9,
   "metadata": {
    "executionInfo": {
     "elapsed": 135395,
     "status": "ok",
     "timestamp": 1611342565681,
     "user": {
      "displayName": "Igor Pavlunin",
      "photoUrl": "https://lh3.googleusercontent.com/a-/AOh14GjEA3K3je-1IQ0G-G1pJD9CXqF3bKpqPv8imdN8jg=s64",
      "userId": "11387440207382201115"
     },
     "user_tz": 360
    },
    "id": "TOZpUKEbcH-s"
   },
   "outputs": [],
   "source": [
    "processedtext = list(dataset['processed_text'])\n",
    "data_pos = processedtext[800000:]\n",
    "data_neg = processedtext[:800000]"
   ]
  },
  {
   "cell_type": "code",
   "execution_count": 10,
   "metadata": {
    "executionInfo": {
     "elapsed": 135389,
     "status": "ok",
     "timestamp": 1611342565682,
     "user": {
      "displayName": "Igor Pavlunin",
      "photoUrl": "https://lh3.googleusercontent.com/a-/AOh14GjEA3K3je-1IQ0G-G1pJD9CXqF3bKpqPv8imdN8jg=s64",
      "userId": "11387440207382201115"
     },
     "user_tz": 360
    },
    "id": "7uLrfHsCcJFQ"
   },
   "outputs": [],
   "source": [
    "# wc = WordCloud(max_words = 1000 , width = 1600 , height = 800,\n",
    "#               collocations=False).generate(\" \".join(data_pos))\n",
    "# plt.figure(figsize = (20,20))\n",
    "# plt.imshow(wc)"
   ]
  },
  {
   "cell_type": "code",
   "execution_count": 11,
   "metadata": {
    "executionInfo": {
     "elapsed": 135380,
     "status": "ok",
     "timestamp": 1611342565682,
     "user": {
      "displayName": "Igor Pavlunin",
      "photoUrl": "https://lh3.googleusercontent.com/a-/AOh14GjEA3K3je-1IQ0G-G1pJD9CXqF3bKpqPv8imdN8jg=s64",
      "userId": "11387440207382201115"
     },
     "user_tz": 360
    },
    "id": "PofQCiiIcQSJ"
   },
   "outputs": [],
   "source": [
    "# wc = WordCloud(max_words = 1000 , width = 1600 , height = 800,\n",
    "#                collocations=False).generate(\" \".join(data_neg))\n",
    "# plt.figure(figsize = (20,20))\n",
    "# plt.imshow(wc)"
   ]
  },
  {
   "cell_type": "code",
   "execution_count": 12,
   "metadata": {
    "colab": {
     "base_uri": "https://localhost:8080/"
    },
    "executionInfo": {
     "elapsed": 135671,
     "status": "ok",
     "timestamp": 1611342565981,
     "user": {
      "displayName": "Igor Pavlunin",
      "photoUrl": "https://lh3.googleusercontent.com/a-/AOh14GjEA3K3je-1IQ0G-G1pJD9CXqF3bKpqPv8imdN8jg=s64",
      "userId": "11387440207382201115"
     },
     "user_tz": 360
    },
    "id": "oUaZl4XncRg7",
    "outputId": "90bbc59a-fbb5-4e14-ec41-ecb90a125c33"
   },
   "outputs": [
    {
     "name": "stdout",
     "output_type": "stream",
     "text": [
      "Data Split done.\n"
     ]
    }
   ],
   "source": [
    "X_data, y_data = np.array(dataset['processed_text']), np.array(dataset['sentiment'])\n",
    "\n",
    "X_train, X_test, y_train, y_test = train_test_split(X_data, y_data,\n",
    "                                                    test_size = 0.05, random_state = 0)\n",
    "print('Data Split done.')"
   ]
  },
  {
   "cell_type": "code",
   "execution_count": 13,
   "metadata": {
    "executionInfo": {
     "elapsed": 141786,
     "status": "ok",
     "timestamp": 1611342572104,
     "user": {
      "displayName": "Igor Pavlunin",
      "photoUrl": "https://lh3.googleusercontent.com/a-/AOh14GjEA3K3je-1IQ0G-G1pJD9CXqF3bKpqPv8imdN8jg=s64",
      "userId": "11387440207382201115"
     },
     "user_tz": 360
    },
    "id": "rwO6bHtYcck3"
   },
   "outputs": [],
   "source": [
    "Embedding_dimensions = 100\n",
    "\n",
    "# Creating Word2Vec training dataset.\n",
    "Word2vec_train_data = list(map(lambda x: x.split(), X_train))"
   ]
  },
  {
   "cell_type": "code",
   "execution_count": 14,
   "metadata": {
    "colab": {
     "base_uri": "https://localhost:8080/"
    },
    "executionInfo": {
     "elapsed": 241506,
     "status": "ok",
     "timestamp": 1611342671837,
     "user": {
      "displayName": "Igor Pavlunin",
      "photoUrl": "https://lh3.googleusercontent.com/a-/AOh14GjEA3K3je-1IQ0G-G1pJD9CXqF3bKpqPv8imdN8jg=s64",
      "userId": "11387440207382201115"
     },
     "user_tz": 360
    },
    "id": "GKNsagpVctqW",
    "outputId": "d6050b31-87b0-482e-e611-0c293c7754ba"
   },
   "outputs": [
    {
     "name": "stdout",
     "output_type": "stream",
     "text": [
      "Vocabulary Length: 52025\n",
      "CPU times: user 4min 32s, sys: 2.44 s, total: 4min 35s\n",
      "Wall time: 1min 39s\n"
     ]
    }
   ],
   "source": [
    "%%time\n",
    "\n",
    "# Defining the model and training it.\n",
    "word2vec_model = Word2Vec(Word2vec_train_data,\n",
    "                 size=Embedding_dimensions,\n",
    "                 workers=8,\n",
    "                 min_count=5)\n",
    "\n",
    "print(\"Vocabulary Length:\", len(word2vec_model.wv.vocab))"
   ]
  },
  {
   "cell_type": "code",
   "execution_count": 15,
   "metadata": {
    "colab": {
     "base_uri": "https://localhost:8080/"
    },
    "executionInfo": {
     "elapsed": 263775,
     "status": "ok",
     "timestamp": 1611342694116,
     "user": {
      "displayName": "Igor Pavlunin",
      "photoUrl": "https://lh3.googleusercontent.com/a-/AOh14GjEA3K3je-1IQ0G-G1pJD9CXqF3bKpqPv8imdN8jg=s64",
      "userId": "11387440207382201115"
     },
     "user_tz": 360
    },
    "id": "Fy0cc2sAcyge",
    "outputId": "a86e3843-daeb-4d76-a3e9-374b55407ddb"
   },
   "outputs": [
    {
     "name": "stdout",
     "output_type": "stream",
     "text": [
      "Tokenizer vocab length: 272836\n"
     ]
    }
   ],
   "source": [
    "# Defining the model input length.\n",
    "input_length = 60\n",
    "\n",
    "tokenizer = Tokenizer(filters=\"\", lower=False, oov_token=\"<oov>\")\n",
    "tokenizer.fit_on_texts(X_data)\n",
    "\n",
    "vocab_length = len(tokenizer.word_index) + 1\n",
    "print(\"Tokenizer vocab length:\", vocab_length)"
   ]
  },
  {
   "cell_type": "code",
   "execution_count": 16,
   "metadata": {
    "colab": {
     "base_uri": "https://localhost:8080/"
    },
    "executionInfo": {
     "elapsed": 291447,
     "status": "ok",
     "timestamp": 1611342721797,
     "user": {
      "displayName": "Igor Pavlunin",
      "photoUrl": "https://lh3.googleusercontent.com/a-/AOh14GjEA3K3je-1IQ0G-G1pJD9CXqF3bKpqPv8imdN8jg=s64",
      "userId": "11387440207382201115"
     },
     "user_tz": 360
    },
    "id": "jVaGecb8dI_2",
    "outputId": "f4b964d2-6322-4c1d-8d59-b48ab7228f2b"
   },
   "outputs": [
    {
     "name": "stdout",
     "output_type": "stream",
     "text": [
      "X_train.shape: (1520000, 60)\n",
      "X_test.shape : (80000, 60)\n"
     ]
    }
   ],
   "source": [
    "X_train = pad_sequences(tokenizer.texts_to_sequences(X_train), maxlen=input_length)\n",
    "X_test  = pad_sequences(tokenizer.texts_to_sequences(X_test) , maxlen=input_length)\n",
    "\n",
    "print(\"X_train.shape:\", X_train.shape)\n",
    "print(\"X_test.shape :\", X_test.shape)"
   ]
  },
  {
   "cell_type": "code",
   "execution_count": 17,
   "metadata": {
    "colab": {
     "base_uri": "https://localhost:8080/"
    },
    "executionInfo": {
     "elapsed": 291827,
     "status": "ok",
     "timestamp": 1611342722184,
     "user": {
      "displayName": "Igor Pavlunin",
      "photoUrl": "https://lh3.googleusercontent.com/a-/AOh14GjEA3K3je-1IQ0G-G1pJD9CXqF3bKpqPv8imdN8jg=s64",
      "userId": "11387440207382201115"
     },
     "user_tz": 360
    },
    "id": "vXkaURNQdOOL",
    "outputId": "c5d1341a-1d38-4551-fc50-9c8749e4a0f0"
   },
   "outputs": [
    {
     "name": "stdout",
     "output_type": "stream",
     "text": [
      "Embedding Matrix Shape: (272836, 100)\n"
     ]
    }
   ],
   "source": [
    "embedding_matrix = np.zeros((vocab_length, Embedding_dimensions))\n",
    "\n",
    "for word, token in tokenizer.word_index.items():\n",
    "    if word2vec_model.wv.__contains__(word):\n",
    "        embedding_matrix[token] = word2vec_model.wv.__getitem__(word)\n",
    "\n",
    "print(\"Embedding Matrix Shape:\", embedding_matrix.shape)"
   ]
  },
  {
   "cell_type": "code",
   "execution_count": 18,
   "metadata": {
    "executionInfo": {
     "elapsed": 291821,
     "status": "ok",
     "timestamp": 1611342722184,
     "user": {
      "displayName": "Igor Pavlunin",
      "photoUrl": "https://lh3.googleusercontent.com/a-/AOh14GjEA3K3je-1IQ0G-G1pJD9CXqF3bKpqPv8imdN8jg=s64",
      "userId": "11387440207382201115"
     },
     "user_tz": 360
    },
    "id": "ZVJU6zTidr7m"
   },
   "outputs": [],
   "source": [
    "def getModel():\n",
    "    embedding_layer = Embedding(input_dim = vocab_length, \n",
    "                                output_dim = Embedding_dimensions,\n",
    "                                weights=[embedding_matrix], \n",
    "                                input_length=input_length,\n",
    "                                trainable=False)\n",
    "\n",
    "    model = Sequential([\n",
    "        embedding_layer,\n",
    "        Bidirectional(LSTM(100, dropout=0.3, return_sequences=True)),\n",
    "        Bidirectional(LSTM(100, dropout=0.3, return_sequences=True)),\n",
    "        Conv1D(100, 5, activation='relu'),\n",
    "        GlobalMaxPool1D(),\n",
    "        Dense(16, activation='relu'),\n",
    "        Dense(1, activation='sigmoid'),\n",
    "    ],\n",
    "    name=\"Sentiment_Model\")\n",
    "    return model"
   ]
  },
  {
   "cell_type": "code",
   "execution_count": 19,
   "metadata": {
    "colab": {
     "base_uri": "https://localhost:8080/"
    },
    "executionInfo": {
     "elapsed": 296909,
     "status": "ok",
     "timestamp": 1611342727278,
     "user": {
      "displayName": "Igor Pavlunin",
      "photoUrl": "https://lh3.googleusercontent.com/a-/AOh14GjEA3K3je-1IQ0G-G1pJD9CXqF3bKpqPv8imdN8jg=s64",
      "userId": "11387440207382201115"
     },
     "user_tz": 360
    },
    "id": "9SAsR9T6dwbq",
    "outputId": "2d0d25b6-ea89-4b12-9c8d-65ba04ec9c9f"
   },
   "outputs": [
    {
     "name": "stdout",
     "output_type": "stream",
     "text": [
      "Model: \"Sentiment_Model\"\n",
      "_________________________________________________________________\n",
      "Layer (type)                 Output Shape              Param #   \n",
      "=================================================================\n",
      "embedding (Embedding)        (None, 60, 100)           27283600  \n",
      "_________________________________________________________________\n",
      "bidirectional (Bidirectional (None, 60, 200)           160800    \n",
      "_________________________________________________________________\n",
      "bidirectional_1 (Bidirection (None, 60, 200)           240800    \n",
      "_________________________________________________________________\n",
      "conv1d (Conv1D)              (None, 56, 100)           100100    \n",
      "_________________________________________________________________\n",
      "global_max_pooling1d (Global (None, 100)               0         \n",
      "_________________________________________________________________\n",
      "dense (Dense)                (None, 16)                1616      \n",
      "_________________________________________________________________\n",
      "dense_1 (Dense)              (None, 1)                 17        \n",
      "=================================================================\n",
      "Total params: 27,786,933\n",
      "Trainable params: 503,333\n",
      "Non-trainable params: 27,283,600\n",
      "_________________________________________________________________\n"
     ]
    }
   ],
   "source": [
    "training_model = getModel()\n",
    "training_model.summary()"
   ]
  },
  {
   "cell_type": "code",
   "execution_count": 20,
   "metadata": {
    "executionInfo": {
     "elapsed": 296902,
     "status": "ok",
     "timestamp": 1611342727279,
     "user": {
      "displayName": "Igor Pavlunin",
      "photoUrl": "https://lh3.googleusercontent.com/a-/AOh14GjEA3K3je-1IQ0G-G1pJD9CXqF3bKpqPv8imdN8jg=s64",
      "userId": "11387440207382201115"
     },
     "user_tz": 360
    },
    "id": "yMzHF7_pd-Xb"
   },
   "outputs": [],
   "source": [
    "callbacks = [ReduceLROnPlateau(monitor='val_loss', patience=5, cooldown=0),\n",
    "             EarlyStopping(monitor='val_accuracy', min_delta=1e-4, patience=5)]"
   ]
  },
  {
   "cell_type": "code",
   "execution_count": 21,
   "metadata": {
    "executionInfo": {
     "elapsed": 296895,
     "status": "ok",
     "timestamp": 1611342727280,
     "user": {
      "displayName": "Igor Pavlunin",
      "photoUrl": "https://lh3.googleusercontent.com/a-/AOh14GjEA3K3je-1IQ0G-G1pJD9CXqF3bKpqPv8imdN8jg=s64",
      "userId": "11387440207382201115"
     },
     "user_tz": 360
    },
    "id": "kfzVOTmbd-1K"
   },
   "outputs": [],
   "source": [
    "training_model.compile(loss='binary_crossentropy', optimizer='adam', metrics=['accuracy'])"
   ]
  },
  {
   "cell_type": "code",
   "execution_count": 22,
   "metadata": {
    "colab": {
     "base_uri": "https://localhost:8080/"
    },
    "executionInfo": {
     "elapsed": 1455746,
     "status": "ok",
     "timestamp": 1611343886139,
     "user": {
      "displayName": "Igor Pavlunin",
      "photoUrl": "https://lh3.googleusercontent.com/a-/AOh14GjEA3K3je-1IQ0G-G1pJD9CXqF3bKpqPv8imdN8jg=s64",
      "userId": "11387440207382201115"
     },
     "user_tz": 360
    },
    "id": "8UfFWL67eByZ",
    "outputId": "91437b25-ff54-4597-9c85-7f942c255d4c"
   },
   "outputs": [
    {
     "name": "stdout",
     "output_type": "stream",
     "text": [
      "Epoch 1/10\n",
      "1336/1336 [==============================] - 127s 87ms/step - loss: 0.4618 - accuracy: 0.7785 - val_loss: 0.3897 - val_accuracy: 0.8236\n",
      "Epoch 2/10\n",
      "1336/1336 [==============================] - 115s 86ms/step - loss: 0.4001 - accuracy: 0.8164 - val_loss: 0.3758 - val_accuracy: 0.8314\n",
      "Epoch 3/10\n",
      "1336/1336 [==============================] - 114s 85ms/step - loss: 0.3868 - accuracy: 0.8241 - val_loss: 0.3677 - val_accuracy: 0.8357\n",
      "Epoch 4/10\n",
      "1336/1336 [==============================] - 114s 86ms/step - loss: 0.3773 - accuracy: 0.8296 - val_loss: 0.3632 - val_accuracy: 0.8391\n",
      "Epoch 5/10\n",
      "1336/1336 [==============================] - 115s 86ms/step - loss: 0.3719 - accuracy: 0.8316 - val_loss: 0.3618 - val_accuracy: 0.8396\n",
      "Epoch 6/10\n",
      "1336/1336 [==============================] - 115s 86ms/step - loss: 0.3672 - accuracy: 0.8345 - val_loss: 0.3604 - val_accuracy: 0.8407\n",
      "Epoch 7/10\n",
      "1336/1336 [==============================] - 115s 86ms/step - loss: 0.3629 - accuracy: 0.8372 - val_loss: 0.3554 - val_accuracy: 0.8431\n",
      "Epoch 8/10\n",
      "1336/1336 [==============================] - 115s 86ms/step - loss: 0.3610 - accuracy: 0.8377 - val_loss: 0.3554 - val_accuracy: 0.8427\n",
      "Epoch 9/10\n",
      "1336/1336 [==============================] - 115s 86ms/step - loss: 0.3588 - accuracy: 0.8388 - val_loss: 0.3568 - val_accuracy: 0.8425\n",
      "Epoch 10/10\n",
      "1336/1336 [==============================] - 115s 86ms/step - loss: 0.3552 - accuracy: 0.8407 - val_loss: 0.3544 - val_accuracy: 0.8430\n"
     ]
    }
   ],
   "source": [
    "history = training_model.fit(\n",
    "    X_train, y_train,\n",
    "    batch_size=1024,\n",
    "    epochs=10,\n",
    "    validation_split=0.1,\n",
    "    callbacks=callbacks,\n",
    "    verbose=1,\n",
    ")"
   ]
  },
  {
   "cell_type": "code",
   "execution_count": 29,
   "metadata": {
    "colab": {
     "base_uri": "https://localhost:8080/"
    },
    "executionInfo": {
     "elapsed": 3098,
     "status": "ok",
     "timestamp": 1611344599025,
     "user": {
      "displayName": "Igor Pavlunin",
      "photoUrl": "https://lh3.googleusercontent.com/a-/AOh14GjEA3K3je-1IQ0G-G1pJD9CXqF3bKpqPv8imdN8jg=s64",
      "userId": "11387440207382201115"
     },
     "user_tz": 360
    },
    "id": "fYVXk_0-ngtS",
    "outputId": "8b4b6f6d-51e2-4a84-8404-d675c62a0850"
   },
   "outputs": [
    {
     "name": "stdout",
     "output_type": "stream",
     "text": [
      "79/79 [==============================] - 3s 35ms/step - loss: 0.3545 - accuracy: 0.8430\n",
      "\n",
      "Accuracy of model is : 0.84\n",
      "Loss of model is : 0.35\n"
     ]
    }
   ],
   "source": [
    "batch_size = 1024\n",
    "\n",
    "score = training_model.evaluate(X_test, y_test, batch_size=batch_size)\n",
    "print()\n",
    "print(\"Accuracy of model is :\",round(score[1],2))\n",
    "print(\"Loss of model is :\",round(score[0],2))"
   ]
  },
  {
   "cell_type": "code",
   "execution_count": 23,
   "metadata": {
    "colab": {
     "base_uri": "https://localhost:8080/",
     "height": 545
    },
    "executionInfo": {
     "elapsed": 1456137,
     "status": "ok",
     "timestamp": 1611343886537,
     "user": {
      "displayName": "Igor Pavlunin",
      "photoUrl": "https://lh3.googleusercontent.com/a-/AOh14GjEA3K3je-1IQ0G-G1pJD9CXqF3bKpqPv8imdN8jg=s64",
      "userId": "11387440207382201115"
     },
     "user_tz": 360
    },
    "id": "EwLcYuTSeEnJ",
    "outputId": "6fa109b9-5143-4599-b9c1-e6511c790db6"
   },
   "outputs": [
    {
     "data": {
      "image/png": "[encoded data removed]",
      "text/plain": [
       "<Figure size 432x288 with 1 Axes>"
      ]
     },
     "metadata": {
      "needs_background": "light",
      "tags": []
     },
     "output_type": "display_data"
    },
    {
     "data": {
      "image/png": "[encoded data removed]",
      "text/plain": [
       "<Figure size 432x288 with 1 Axes>"
      ]
     },
     "metadata": {
      "needs_background": "light",
      "tags": []
     },
     "output_type": "display_data"
    }
   ],
   "source": [
    "acc,  val_acc  = history.history['accuracy'], history.history['val_accuracy']\n",
    "loss, val_loss = history.history['loss'], history.history['val_loss']\n",
    "epochs = range(len(acc))\n",
    "\n",
    "plt.plot(epochs, acc, 'b', label='Training acc')\n",
    "plt.plot(epochs, val_acc, 'r', label='Validation acc')\n",
    "plt.title('Training and validation accuracy')\n",
    "plt.legend()\n",
    "\n",
    "plt.figure()\n",
    "\n",
    "plt.plot(epochs, loss, 'b', label='Training loss')\n",
    "plt.plot(epochs, val_loss, 'r', label='Validation loss')\n",
    "plt.title('Training and validation loss')\n",
    "plt.legend()\n",
    "\n",
    "plt.show()"
   ]
  },
  {
   "cell_type": "code",
   "execution_count": 24,
   "metadata": {
    "executionInfo": {
     "elapsed": 1456135,
     "status": "ok",
     "timestamp": 1611343886538,
     "user": {
      "displayName": "Igor Pavlunin",
      "photoUrl": "https://lh3.googleusercontent.com/a-/AOh14GjEA3K3je-1IQ0G-G1pJD9CXqF3bKpqPv8imdN8jg=s64",
      "userId": "11387440207382201115"
     },
     "user_tz": 360
    },
    "id": "_OgxICXVeptI"
   },
   "outputs": [],
   "source": [
    "from sklearn.metrics import confusion_matrix, classification_report\n",
    "\n",
    "def ConfusionMatrix(y_pred, y_test):\n",
    "    # Compute and plot the Confusion matrix\n",
    "    cf_matrix = confusion_matrix(y_test, y_pred)\n",
    "\n",
    "    categories  = ['Negative','Positive']\n",
    "    group_names = ['True Neg','False Pos', 'False Neg','True Pos']\n",
    "    group_percentages = ['{0:.2%}'.format(value) for value in cf_matrix.flatten() / np.sum(cf_matrix)]\n",
    "\n",
    "    labels = [f'{v1}\\n{v2}' for v1, v2 in zip(group_names,group_percentages)]\n",
    "    labels = np.asarray(labels).reshape(2,2)\n",
    "\n",
    "    sns.heatmap(cf_matrix, annot = labels, cmap = 'Blues',fmt = '',\n",
    "                xticklabels = categories, yticklabels = categories)\n",
    "\n",
    "    plt.xlabel(\"Predicted values\", fontdict = {'size':14}, labelpad = 10)\n",
    "    plt.ylabel(\"Actual values\"   , fontdict = {'size':14}, labelpad = 10)\n",
    "    plt.title (\"Confusion Matrix\", fontdict = {'size':18}, pad = 20)"
   ]
  },
  {
   "cell_type": "code",
   "execution_count": 25,
   "metadata": {
    "colab": {
     "base_uri": "https://localhost:8080/",
     "height": 323
    },
    "executionInfo": {
     "elapsed": 1474918,
     "status": "ok",
     "timestamp": 1611343905323,
     "user": {
      "displayName": "Igor Pavlunin",
      "photoUrl": "https://lh3.googleusercontent.com/a-/AOh14GjEA3K3je-1IQ0G-G1pJD9CXqF3bKpqPv8imdN8jg=s64",
      "userId": "11387440207382201115"
     },
     "user_tz": 360
    },
    "id": "nNikdXAreukU",
    "outputId": "81e31df8-82f4-45b5-f58b-fbefaf66da0e"
   },
   "outputs": [
    {
     "data": {
      "image/png": "[encoded data removed]",
      "text/plain": [
       "<Figure size 432x288 with 2 Axes>"
      ]
     },
     "metadata": {
      "needs_background": "light",
      "tags": []
     },
     "output_type": "display_data"
    }
   ],
   "source": [
    "# Predicting on the Test dataset.\n",
    "y_pred = training_model.predict(X_test)\n",
    "\n",
    "# Converting prediction to reflect the sentiment predicted.\n",
    "y_pred = np.where(y_pred>=0.5, 1, 0)\n",
    "\n",
    "# Printing out the Evaluation metrics. \n",
    "ConfusionMatrix(y_pred, y_test)"
   ]
  },
  {
   "cell_type": "code",
   "execution_count": 26,
   "metadata": {
    "colab": {
     "base_uri": "https://localhost:8080/"
    },
    "executionInfo": {
     "elapsed": 1475051,
     "status": "ok",
     "timestamp": 1611343905458,
     "user": {
      "displayName": "Igor Pavlunin",
      "photoUrl": "https://lh3.googleusercontent.com/a-/AOh14GjEA3K3je-1IQ0G-G1pJD9CXqF3bKpqPv8imdN8jg=s64",
      "userId": "11387440207382201115"
     },
     "user_tz": 360
    },
    "id": "VJi4Jh-ae0Hb",
    "outputId": "4e3b048f-f4dc-4050-9ea0-9d2bc89533ce"
   },
   "outputs": [
    {
     "name": "stdout",
     "output_type": "stream",
     "text": [
      "              precision    recall  f1-score   support\n",
      "\n",
      "           0       0.85      0.83      0.84     39989\n",
      "           1       0.83      0.86      0.85     40011\n",
      "\n",
      "    accuracy                           0.84     80000\n",
      "   macro avg       0.84      0.84      0.84     80000\n",
      "weighted avg       0.84      0.84      0.84     80000\n",
      "\n"
     ]
    }
   ],
   "source": [
    "# Print the evaluation metrics for the dataset.\n",
    "print(classification_report(y_test, y_pred))"
   ]
  },
  {
   "cell_type": "code",
   "execution_count": 53,
   "metadata": {
    "executionInfo": {
     "elapsed": 5653,
     "status": "ok",
     "timestamp": 1611345634337,
     "user": {
      "displayName": "Igor Pavlunin",
      "photoUrl": "https://lh3.googleusercontent.com/a-/AOh14GjEA3K3je-1IQ0G-G1pJD9CXqF3bKpqPv8imdN8jg=s64",
      "userId": "11387440207382201115"
     },
     "user_tz": 360
    },
    "id": "w4OJAkn_e6_A"
   },
   "outputs": [],
   "source": [
    "# Saving Word2Vec-Model\n",
    "word2vec_model.wv.save('drive/My Drive/Model1/Word2Vec-twitter-100-dims')\n",
    "word2vec_model.wv.save_word2vec_format('drive/My Drive/Model1/Word2Vec-twitter-100-dims-trainable')\n",
    "\n",
    "# Saving the tokenizer\n",
    "with open('drive/My Drive/Model1/Tokenizer.pickle', 'wb') as file:\n",
    "    pickle.dump(tokenizer, file)\n",
    "\n",
    "# Saving the TF-Model.\n",
    "training_model.save('drive/My Drive/Model1/Twitter-Sentiment-BiLSTM.h5')"
   ]
  },
  {
   "cell_type": "code",
   "execution_count": 50,
   "metadata": {
    "executionInfo": {
     "elapsed": 247,
     "status": "ok",
     "timestamp": 1611345185775,
     "user": {
      "displayName": "Igor Pavlunin",
      "photoUrl": "https://lh3.googleusercontent.com/a-/AOh14GjEA3K3je-1IQ0G-G1pJD9CXqF3bKpqPv8imdN8jg=s64",
      "userId": "11387440207382201115"
     },
     "user_tz": 360
    },
    "id": "UouidM78n-va"
   },
   "outputs": [],
   "source": [
    "# Predicting\n",
    "\n",
    "def decode_sentiment(score):\n",
    "    label = None\n",
    "    if score <= 0.45:\n",
    "        label = 'Negative'\n",
    "    elif score >= 0.55:\n",
    "        label = 'Positive'\n",
    "    else:\n",
    "        label = 'Neutral'\n",
    "    \n",
    "    return label"
   ]
  },
  {
   "cell_type": "code",
   "execution_count": 47,
   "metadata": {
    "executionInfo": {
     "elapsed": 286,
     "status": "ok",
     "timestamp": 1611345161662,
     "user": {
      "displayName": "Igor Pavlunin",
      "photoUrl": "https://lh3.googleusercontent.com/a-/AOh14GjEA3K3je-1IQ0G-G1pJD9CXqF3bKpqPv8imdN8jg=s64",
      "userId": "11387440207382201115"
     },
     "user_tz": 360
    },
    "id": "ighoNmitoM5s"
   },
   "outputs": [],
   "source": [
    "def predict(text):\n",
    "    x_test = pad_sequences(tokenizer.texts_to_sequences([text]), maxlen=input_length)\n",
    "    score = training_model.predict([x_test])[0]\n",
    "    \n",
    "    label = decode_sentiment(score)\n",
    "\n",
    "    return {\"label\": label, \"score\": float(score)}"
   ]
  },
  {
   "cell_type": "code",
   "execution_count": 48,
   "metadata": {
    "colab": {
     "base_uri": "https://localhost:8080/"
    },
    "executionInfo": {
     "elapsed": 315,
     "status": "ok",
     "timestamp": 1611345162809,
     "user": {
      "displayName": "Igor Pavlunin",
      "photoUrl": "https://lh3.googleusercontent.com/a-/AOh14GjEA3K3je-1IQ0G-G1pJD9CXqF3bKpqPv8imdN8jg=s64",
      "userId": "11387440207382201115"
     },
     "user_tz": 360
    },
    "id": "0JfouwjhoPa4",
    "outputId": "e0eb1f0b-db0d-4eae-ffdb-860375def646"
   },
   "outputs": [
    {
     "data": {
      "text/plain": [
       "{'label': 'Positive', 'score': 0.9885326623916626}"
      ]
     },
     "execution_count": 48,
     "metadata": {
      "tags": []
     },
     "output_type": "execute_result"
    }
   ],
   "source": [
    "predict('Vacation was amazing')"
   ]
  },
  {
   "cell_type": "code",
   "execution_count": 67,
   "metadata": {
    "colab": {
     "base_uri": "https://localhost:8080/"
    },
    "executionInfo": {
     "elapsed": 316,
     "status": "ok",
     "timestamp": 1611349187223,
     "user": {
      "displayName": "Igor Pavlunin",
      "photoUrl": "https://lh3.googleusercontent.com/a-/AOh14GjEA3K3je-1IQ0G-G1pJD9CXqF3bKpqPv8imdN8jg=s64",
      "userId": "11387440207382201115"
     },
     "user_tz": 360
    },
    "id": "fin77LtHpn8t",
    "outputId": "7c3ab2d3-45b2-4e63-b791-f7787a2b3446"
   },
   "outputs": [
    {
     "data": {
      "text/plain": [
       "{'label': 'Negative', 'score': 0.003504897002130747}"
      ]
     },
     "execution_count": 67,
     "metadata": {
      "tags": []
     },
     "output_type": "execute_result"
    }
   ],
   "source": [
    "predict('I have recovered from Covid19')"
   ]
  },
  {
   "cell_type": "code",
   "execution_count": null,
   "metadata": {
    "id": "4jbnEIMupop1"
   },
   "outputs": [],
   "source": []
  }
 ],
 "metadata": {
  "accelerator": "GPU",
  "colab": {
   "authorship_tag": "ABX9TyP5YWPl74Lq4y5L0PUx3evu",
   "machine_shape": "hm",
   "name": "Model1.ipynb",
   "provenance": []
  },
  "kernelspec": {
   "display_name": "Python 3",
   "language": "python",
   "name": "python3"
  },
  "language_info": {
   "codemirror_mode": {
    "name": "ipython",
    "version": 3
   },
   "file_extension": ".py",
   "mimetype": "text/x-python",
   "name": "python",
   "nbconvert_exporter": "python",
   "pygments_lexer": "ipython3",
   "version": "3.8.3"
  }
 },
 "nbformat": 4,
 "nbformat_minor": 4
}
